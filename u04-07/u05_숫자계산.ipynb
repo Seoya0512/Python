{
  "nbformat": 4,
  "nbformat_minor": 0,
  "metadata": {
    "colab": {
      "name": "u05_숫자계산.ipynb",
      "provenance": [],
      "collapsed_sections": []
    },
    "kernelspec": {
      "name": "python3",
      "display_name": "Python 3"
    },
    "language_info": {
      "name": "python"
    }
  },
  "cells": [
    {
      "cell_type": "markdown",
      "metadata": {
        "id": "vQaOXtn-o9XD"
      },
      "source": [
        "# Unit 5. 숫자 계산하기"
      ]
    },
    {
      "cell_type": "markdown",
      "metadata": {
        "id": "R7E_jtInqpsh"
      },
      "source": [
        "## 5.1 정수"
      ]
    },
    {
      "cell_type": "code",
      "metadata": {
        "colab": {
          "base_uri": "https://localhost:8080/"
        },
        "id": "gWYtGxQmqlQh",
        "outputId": "2a1db609-9f09-409e-9e3d-1423cff59b9d"
      },
      "source": [
        "# 사칙연산, +, - , *, / , % , //\n",
        "\n",
        "5 / 2"
      ],
      "execution_count": 5,
      "outputs": [
        {
          "output_type": "execute_result",
          "data": {
            "text/plain": [
              "2.5"
            ]
          },
          "metadata": {
            "tags": []
          },
          "execution_count": 5
        }
      ]
    },
    {
      "cell_type": "code",
      "metadata": {
        "colab": {
          "base_uri": "https://localhost:8080/"
        },
        "id": "f605rYVVqwvK",
        "outputId": "f008a19e-ec77-47a8-df87-4ad526653583"
      },
      "source": [
        "# %는 modulo(모듈로), 나머지\n",
        "5 % 2"
      ],
      "execution_count": 6,
      "outputs": [
        {
          "output_type": "execute_result",
          "data": {
            "text/plain": [
              "1"
            ]
          },
          "metadata": {
            "tags": []
          },
          "execution_count": 6
        }
      ]
    },
    {
      "cell_type": "code",
      "metadata": {
        "colab": {
          "base_uri": "https://localhost:8080/"
        },
        "id": "o8158DqOtpdj",
        "outputId": "3e80c1f7-52f4-4af6-a175-faa0d89b69a2"
      },
      "source": [
        "# // 는 몫을 구한다\n",
        "5//2"
      ],
      "execution_count": 7,
      "outputs": [
        {
          "output_type": "execute_result",
          "data": {
            "text/plain": [
              "2"
            ]
          },
          "metadata": {
            "tags": []
          },
          "execution_count": 7
        }
      ]
    },
    {
      "cell_type": "code",
      "metadata": {
        "colab": {
          "base_uri": "https://localhost:8080/"
        },
        "id": "xmVrQoExuKU2",
        "outputId": "5012c96f-0343-4704-ee0f-b6328c69edaa"
      },
      "source": [
        "# 3의 배수 : 어떤 숫자를 3으로 모듈로 연산을 했을 때 결과과 0\n",
        "6 % 2"
      ],
      "execution_count": 9,
      "outputs": [
        {
          "output_type": "execute_result",
          "data": {
            "text/plain": [
              "0"
            ]
          },
          "metadata": {
            "tags": []
          },
          "execution_count": 9
        }
      ]
    },
    {
      "cell_type": "code",
      "metadata": {
        "colab": {
          "base_uri": "https://localhost:8080/"
        },
        "id": "QyN7KopotttO",
        "outputId": "9c8e7185-4127-405d-cdef-a350c673ba9e"
      },
      "source": [
        "# 거듭 제곱\n",
        "2**10"
      ],
      "execution_count": 10,
      "outputs": [
        {
          "output_type": "execute_result",
          "data": {
            "text/plain": [
              "1024"
            ]
          },
          "metadata": {
            "tags": []
          },
          "execution_count": 10
        }
      ]
    },
    {
      "cell_type": "markdown",
      "metadata": {
        "id": "flS35wtiu5Zg"
      },
      "source": [
        "### 값을 정수(integer)로 변환\n"
      ]
    },
    {
      "cell_type": "code",
      "metadata": {
        "colab": {
          "base_uri": "https://localhost:8080/"
        },
        "id": "8qCcspORu43D",
        "outputId": "b011ce76-c7a5-400e-d9d7-8bce77977091"
      },
      "source": [
        "int(3.14)"
      ],
      "execution_count": 14,
      "outputs": [
        {
          "output_type": "execute_result",
          "data": {
            "text/plain": [
              "3"
            ]
          },
          "metadata": {
            "tags": []
          },
          "execution_count": 14
        }
      ]
    },
    {
      "cell_type": "code",
      "metadata": {
        "colab": {
          "base_uri": "https://localhost:8080/"
        },
        "id": "JyZ1Rr5Lusg9",
        "outputId": "21164bf9-53c6-46ea-f1d9-91ce9265dd52"
      },
      "source": [
        "int(5/2)"
      ],
      "execution_count": 13,
      "outputs": [
        {
          "output_type": "execute_result",
          "data": {
            "text/plain": [
              "2"
            ]
          },
          "metadata": {
            "tags": []
          },
          "execution_count": 13
        }
      ]
    },
    {
      "cell_type": "code",
      "metadata": {
        "colab": {
          "base_uri": "https://localhost:8080/"
        },
        "id": "ox3BxQ1qvTaC",
        "outputId": "b8b72b1f-a70d-48f8-9131-c879620b7fcc"
      },
      "source": [
        "# ' single quote', \"double quote\" 에 포함된 문자열 \n",
        "\n",
        "int('55')"
      ],
      "execution_count": 16,
      "outputs": [
        {
          "output_type": "execute_result",
          "data": {
            "text/plain": [
              "55"
            ]
          },
          "metadata": {
            "tags": []
          },
          "execution_count": 16
        }
      ]
    },
    {
      "cell_type": "code",
      "metadata": {
        "colab": {
          "base_uri": "https://localhost:8080/"
        },
        "id": "s0hZmM7hvWzb",
        "outputId": "1715f448-6f18-4091-f194-f02ffadc1721"
      },
      "source": [
        "# type 알아보기\n",
        "\n",
        "string= '55'              #같은 숫자라도, 컴퓨터가 입력하는 방식이 다르다. \n",
        "                          #그러므로 type이 달라질 수 있다. \n",
        "value = int(string)\n",
        "\n",
        "type(string), type(value), type(55.0)   # tuple로 값을 포현"
      ],
      "execution_count": 21,
      "outputs": [
        {
          "output_type": "execute_result",
          "data": {
            "text/plain": [
              "(str, int, float)"
            ]
          },
          "metadata": {
            "tags": []
          },
          "execution_count": 21
        }
      ]
    },
    {
      "cell_type": "code",
      "metadata": {
        "colab": {
          "base_uri": "https://localhost:8080/"
        },
        "id": "UJ4upUwYwhNm",
        "outputId": "43ba41e3-0e68-481f-f40a-9109c03fff63"
      },
      "source": [
        "#몫과 나머지를 동시에 계산 divmod(5,2)\n",
        "q, r= 5//2, 5 % 2\n",
        "q, r"
      ],
      "execution_count": 24,
      "outputs": [
        {
          "output_type": "execute_result",
          "data": {
            "text/plain": [
              "(2, 1)"
            ]
          },
          "metadata": {
            "tags": []
          },
          "execution_count": 24
        }
      ]
    },
    {
      "cell_type": "code",
      "metadata": {
        "colab": {
          "base_uri": "https://localhost:8080/"
        },
        "id": "Tuz0Q5xZxdsv",
        "outputId": "69ccdbd5-6ee4-4b03-9d47-3c25a3638fb7"
      },
      "source": [
        "divmod(5,2)"
      ],
      "execution_count": 25,
      "outputs": [
        {
          "output_type": "execute_result",
          "data": {
            "text/plain": [
              "(2, 1)"
            ]
          },
          "metadata": {
            "tags": []
          },
          "execution_count": 25
        }
      ]
    },
    {
      "cell_type": "markdown",
      "metadata": {
        "id": "4kPWyOZEx4sm"
      },
      "source": [
        "### 진수"
      ]
    },
    {
      "cell_type": "code",
      "metadata": {
        "colab": {
          "base_uri": "https://localhost:8080/"
        },
        "id": "kbcvsfSXxsvS",
        "outputId": "8670f571-1da2-42b6-d465-35755504aa9a"
      },
      "source": [
        "# 2진수, 8진수, 16진수(기억해둬야 함, RGB등에 사용)\n",
        "0b101, 0o5, 0x5"
      ],
      "execution_count": 28,
      "outputs": [
        {
          "output_type": "execute_result",
          "data": {
            "text/plain": [
              "(5, 5, 5)"
            ]
          },
          "metadata": {
            "tags": []
          },
          "execution_count": 28
        }
      ]
    },
    {
      "cell_type": "markdown",
      "metadata": {
        "id": "NX0l7pPsztO1"
      },
      "source": [
        "## 5.2 실수 (float)\n",
        "- 정수보다 크고 작은 수를 표현 할 수 있다.\n",
        "- 모든 숫자를 표현할 수 있는 것은 아니다"
      ]
    },
    {
      "cell_type": "code",
      "metadata": {
        "colab": {
          "base_uri": "https://localhost:8080/"
        },
        "id": "k8cRThYWzsM_",
        "outputId": "232517c8-a037-4db3-cd88-6f269ba38d78"
      },
      "source": [
        "3.5 + 2.1"
      ],
      "execution_count": 29,
      "outputs": [
        {
          "output_type": "execute_result",
          "data": {
            "text/plain": [
              "5.6"
            ]
          },
          "metadata": {
            "tags": []
          },
          "execution_count": 29
        }
      ]
    },
    {
      "cell_type": "code",
      "metadata": {
        "colab": {
          "base_uri": "https://localhost:8080/"
        },
        "id": "kOuA8zPMyAvc",
        "outputId": "dd9161db-4480-454c-ccb7-4c3be1df4ef1"
      },
      "source": [
        "# 컴퓨터는 실수를 표현할 때 오차가 발생하기 때문입니다. \n",
        "\n",
        "4.3-2.7"
      ],
      "execution_count": 31,
      "outputs": [
        {
          "output_type": "execute_result",
          "data": {
            "text/plain": [
              "1.5999999999999996"
            ]
          },
          "metadata": {
            "tags": []
          },
          "execution_count": 31
        }
      ]
    },
    {
      "cell_type": "code",
      "metadata": {
        "colab": {
          "base_uri": "https://localhost:8080/"
        },
        "id": "F57srR7CzzBs",
        "outputId": "cfb26c84-e112-4c94-fe43-3623915cf7f5"
      },
      "source": [
        "4.3-2.7==1.6"
      ],
      "execution_count": 32,
      "outputs": [
        {
          "output_type": "execute_result",
          "data": {
            "text/plain": [
              "False"
            ]
          },
          "metadata": {
            "tags": []
          },
          "execution_count": 32
        }
      ]
    },
    {
      "cell_type": "code",
      "metadata": {
        "colab": {
          "base_uri": "https://localhost:8080/"
        },
        "id": "KNPlYzs80rZd",
        "outputId": "0891bfa5-d4b8-45b2-9ea2-4b7c69d45986"
      },
      "source": [
        "# 실수 값의 정확성을 확인하는 방법\n",
        "import numpy as np\n",
        "np.abs((4.3-2.7)-1.6) <1e-10"
      ],
      "execution_count": 34,
      "outputs": [
        {
          "output_type": "execute_result",
          "data": {
            "text/plain": [
              "True"
            ]
          },
          "metadata": {
            "tags": []
          },
          "execution_count": 34
        }
      ]
    },
    {
      "cell_type": "code",
      "metadata": {
        "colab": {
          "base_uri": "https://localhost:8080/"
        },
        "id": "e5mG_7fj05I0",
        "outputId": "dda0e675-1c1d-44f6-b95b-1d7d8ab026eb"
      },
      "source": [
        "# 실수 + 정수 \n",
        "\n",
        "4.2 + 5"
      ],
      "execution_count": 35,
      "outputs": [
        {
          "output_type": "execute_result",
          "data": {
            "text/plain": [
              "9.2"
            ]
          },
          "metadata": {
            "tags": []
          },
          "execution_count": 35
        }
      ]
    },
    {
      "cell_type": "code",
      "metadata": {
        "id": "Z9PayS712GiE"
      },
      "source": [
        ""
      ],
      "execution_count": null,
      "outputs": []
    }
  ]
}